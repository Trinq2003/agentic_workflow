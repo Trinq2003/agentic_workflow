{
 "cells": [
  {
   "cell_type": "markdown",
   "metadata": {},
   "source": [
    "## 1. Test LLM and prompt types"
   ]
  },
  {
   "cell_type": "code",
   "execution_count": null,
   "metadata": {},
   "outputs": [],
   "source": [
    "from configuration.llm_inference_configuration import APILLMConfiguration\n",
    "from llm.azure_openai import AzureOpenAILLM\n",
    "from prompt.zero_shot import ZeroShotPrompt\n",
    "from prompt.few_shot import FewShotPrompt"
   ]
  },
  {
   "cell_type": "code",
   "execution_count": null,
   "metadata": {},
   "outputs": [],
   "source": [
    "gpt_4o_azure_configuration = APILLMConfiguration()\n",
    "gpt_4o_azure_configuration.load(\"configuration/yaml/llm/gpt_4o.yaml\")\n",
    "azure_gpt_4o = AzureOpenAILLM(gpt_4o_azure_configuration)"
   ]
  },
  {
   "cell_type": "code",
   "execution_count": null,
   "metadata": {},
   "outputs": [],
   "source": [
    "sample_zero_shot_message = ZeroShotPrompt(\n",
    "    [\n",
    "        {\n",
    "            \"role\": \"user\", \n",
    "            \"content\": \"Health check. Say 'hi' to start the conversation.\"\n",
    "        }\n",
    "    ]\n",
    ")\n",
    "\n",
    "sample_zero_shot_message_responses = azure_gpt_4o.query(query=sample_zero_shot_message.prompt, num_responses=2)\n",
    "print(azure_gpt_4o.get_response_texts(sample_zero_shot_message_responses))"
   ]
  },
  {
   "cell_type": "code",
   "execution_count": null,
   "metadata": {},
   "outputs": [],
   "source": [
    "sample_few_shots_message = FewShotPrompt(\n",
    "    [\n",
    "        {\n",
    "            \"role\": \"system\", \n",
    "            \"content\": \"You are NetMind assistant. You task is to answer to the user anything about Viettel Group.\"\n",
    "        },\n",
    "        {\n",
    "            \"role\": \"user\", \n",
    "            \"content\": \"Tell me about Viettel Group.\"\n",
    "        },\n",
    "        {\n",
    "            \"role\": \"assistant\", \n",
    "            \"content\": \"Viettel Group is a Vietnamese multinational telecommunications company headquartered in Hanoi, Vietnam. It is a state-owned enterprise and operated by the Ministry of Defence. You can find out more about Viettel Group at https://viettel.vn/.\"\n",
    "        },\n",
    "        {\n",
    "            \"role\": \"user\",\n",
    "            \"content\": \"What is the revenue of Viettel Group?\"\n",
    "        }\n",
    "    ]\n",
    ")\n",
    "\n",
    "sample_few_shots_message_responses = azure_gpt_4o.query(query=sample_few_shots_message.prompt, num_responses=2)\n",
    "print(azure_gpt_4o.get_response_texts(sample_few_shots_message_responses))"
   ]
  },
  {
   "cell_type": "markdown",
   "metadata": {},
   "source": [
    "## 2. Test tools"
   ]
  },
  {
   "cell_type": "markdown",
   "metadata": {},
   "source": [
    "### 2.1. Python code runner tool"
   ]
  },
  {
   "cell_type": "code",
   "execution_count": 1,
   "metadata": {},
   "outputs": [],
   "source": [
    "from tools.python_code_runner import PythonCodeRunnerTool\n",
    "from configuration.tool_configuration import ToolConfiguration"
   ]
  },
  {
   "cell_type": "code",
   "execution_count": 2,
   "metadata": {},
   "outputs": [],
   "source": [
    "python_code_runner_config = ToolConfiguration()\n",
    "python_code_runner_config.load(\"configuration/yaml/tools/python_code_runner.yaml\")\n",
    "python_code_runner = PythonCodeRunnerTool(python_code_runner_config)"
   ]
  },
  {
   "cell_type": "code",
   "execution_count": 4,
   "metadata": {},
   "outputs": [
    {
     "data": {
      "text/plain": [
       "[{'id': '1',\n",
       "  'result': {'a': 11, 'b': 20, 'result': 31, 'message': 'Hello, World!'}},\n",
       " {'id': '2', 'result': {'num1': 5, 'num2': 3, 'result': 15}}]"
      ]
     },
     "execution_count": 4,
     "metadata": {},
     "output_type": "execute_result"
    }
   ],
   "source": [
    "input_code_list = [\n",
    "    {\n",
    "        \"code_string\": \"a = 11\\nb = 20\\nresult = a + b\\n\\ndef greet(name):\\n return f'Hello, {name}!'\\n \\nmessage = greet('World')\",\n",
    "        \"id\": \"1\"\n",
    "    },\n",
    "    {\n",
    "        \"code_string\": \"def multiply(x, y):\\n\\treturn x * y\\n\\nnum1 = 5\\nnum2 = 3\\nresult = multiply(num1, num2)\\n\\nprint(f'The product of {num1} and {num2} is {result}.')\",\n",
    "        \"id\": \"2\"\n",
    "    }\n",
    "]\n",
    "\n",
    "results = python_code_runner.execute(input_code_list=input_code_list)\n",
    "results"
   ]
  },
  {
   "cell_type": "markdown",
   "metadata": {},
   "source": [
    "## 3. Test memory"
   ]
  },
  {
   "cell_type": "code",
   "execution_count": 9,
   "metadata": {},
   "outputs": [
    {
     "ename": "IndexError",
     "evalue": "list assignment index out of range",
     "output_type": "error",
     "traceback": [
      "\u001b[1;31m---------------------------------------------------------------------------\u001b[0m",
      "\u001b[1;31mIndexError\u001b[0m                                Traceback (most recent call last)",
      "Cell \u001b[1;32mIn[9], line 55\u001b[0m\n\u001b[0;32m     52\u001b[0m     \u001b[38;5;28;01mreturn\u001b[39;00m hash_value \u001b[38;5;241m%\u001b[39m modulus\n\u001b[0;32m     53\u001b[0m \u001b[38;5;28;01mif\u001b[39;00m \u001b[38;5;18m__name__\u001b[39m \u001b[38;5;241m==\u001b[39m \u001b[38;5;124m'\u001b[39m\u001b[38;5;124m__main__\u001b[39m\u001b[38;5;124m'\u001b[39m:\n\u001b[0;32m     54\u001b[0m     \u001b[38;5;66;03m# generate primes list to use as modulus\u001b[39;00m\n\u001b[1;32m---> 55\u001b[0m     primes \u001b[38;5;241m=\u001b[39m sieve(\u001b[38;5;241m10000\u001b[39m) \u001b[38;5;66;03m# modify limit based on your needs\u001b[39;00m\n\u001b[0;32m     56\u001b[0m     modulus \u001b[38;5;241m=\u001b[39m pick_prime(primes, \u001b[38;5;241m1000\u001b[39m)\n\u001b[0;32m     57\u001b[0m     test_array \u001b[38;5;241m=\u001b[39m [\u001b[38;5;124m\"\u001b[39m\u001b[38;5;124malpha\u001b[39m\u001b[38;5;124m\"\u001b[39m,\u001b[38;5;124m\"\u001b[39m\u001b[38;5;124mbeta\u001b[39m\u001b[38;5;124m\"\u001b[39m,\u001b[38;5;124m\"\u001b[39m\u001b[38;5;124mgamma\u001b[39m\u001b[38;5;124m\"\u001b[39m,\u001b[38;5;124m\"\u001b[39m\u001b[38;5;124mdelta\u001b[39m\u001b[38;5;124m\"\u001b[39m,\u001b[38;5;124m\"\u001b[39m\u001b[38;5;124mepsilon\u001b[39m\u001b[38;5;124m\"\u001b[39m]\n",
      "Cell \u001b[1;32mIn[9], line 10\u001b[0m, in \u001b[0;36msieve\u001b[1;34m(limit)\u001b[0m\n\u001b[0;32m      8\u001b[0m res \u001b[38;5;241m=\u001b[39m [\u001b[38;5;28;01mFalse\u001b[39;00m]\n\u001b[0;32m      9\u001b[0m \u001b[38;5;28;01mif\u001b[39;00m limit \u001b[38;5;241m>\u001b[39m\u001b[38;5;241m=\u001b[39m \u001b[38;5;241m2\u001b[39m:\n\u001b[1;32m---> 10\u001b[0m     res[\u001b[38;5;241m2\u001b[39m] \u001b[38;5;241m=\u001b[39m \u001b[38;5;28;01mTrue\u001b[39;00m\n\u001b[0;32m     11\u001b[0m \u001b[38;5;28;01mif\u001b[39;00m limit \u001b[38;5;241m>\u001b[39m\u001b[38;5;241m=\u001b[39m \u001b[38;5;241m3\u001b[39m:\n\u001b[0;32m     12\u001b[0m     res[\u001b[38;5;241m3\u001b[39m] \u001b[38;5;241m=\u001b[39m \u001b[38;5;28;01mTrue\u001b[39;00m\n",
      "\u001b[1;31mIndexError\u001b[0m: list assignment index out of range"
     ]
    }
   ],
   "source": [
    "def sieve(limit):\n",
    "    if limit < 2:\n",
    "        return []\n",
    "    if limit == 2:\n",
    "        return [False, True]\n",
    "    if limit == 3:\n",
    "        return [False, True, True]\n",
    "    res = [False]\n",
    "    if limit >= 2:\n",
    "        res[2] = True\n",
    "    if limit >= 3:\n",
    "        res[3] = True\n",
    "    for i in range(4, limit + 1):\n",
    "        res[i] = False\n",
    "    i = 1\n",
    "    while i <= limit:\n",
    "        j = 1\n",
    "        while j <= limit:\n",
    "            n = (4 * i * i) + (j * j)\n",
    "            if (n <= limit and (n % 12 == 1 or\n",
    "                                n % 12 == 5)):\n",
    "                res[n] ^= True\n",
    "            n = (3 * i * i) + (j * j)\n",
    "            if n <= limit and n % 12 == 7:\n",
    "                res[n] ^= True\n",
    "            n = (3 * i * i) - (j * j)\n",
    "            if (i > j and n <= limit and\n",
    "                    n % 12 == 11):\n",
    "                res[n] ^= True\n",
    "            j += 1\n",
    "        i += 1\n",
    "    r = 5\n",
    "    while r * r <= limit:\n",
    "        if res[r]:\n",
    "            for i in range(r * r, limit + 1, r * r):\n",
    "                res[i] = False\n",
    "        r += 1\n",
    "    return res\n",
    "def pick_prime(primes, min_size=1000):\n",
    "    \"\"\"returns a suitable prime to use as modulus\"\"\"\n",
    "    for prime in primes:\n",
    "        if prime >= min_size:\n",
    "            return prime\n",
    "    # if no prime large enough exists, use last one on list\n",
    "    return primes[-1]\n",
    "def hash(string, modulus):\n",
    "    \"\"\"implements polynomial rolling of string keys\"\"\"\n",
    "    hash_value = 5381\n",
    "    for char in string:\n",
    "        # hash = 33 XOR ord(c)\n",
    "        hash_value = ((hash_value << 5) + hash_value) ^ ord(char)\n",
    "    return hash_value % modulus\n",
    "if __name__ == '__main__':\n",
    "    # generate primes list to use as modulus\n",
    "    primes = sieve(10000) # modify limit based on your needs\n",
    "    modulus = pick_prime(primes, 1000)\n",
    "    test_array = [\"alpha\",\"beta\",\"gamma\",\"delta\",\"epsilon\"]\n",
    "    for string in test_array:\n",
    "        hash_value = hash(string, modulus)\n",
    "        print(f\"Hash of {string} is {hash_value}\")"
   ]
  },
  {
   "cell_type": "code",
   "execution_count": null,
   "metadata": {},
   "outputs": [],
   "source": []
  }
 ],
 "metadata": {
  "kernelspec": {
   "display_name": "base",
   "language": "python",
   "name": "python3"
  },
  "language_info": {
   "codemirror_mode": {
    "name": "ipython",
    "version": 3
   },
   "file_extension": ".py",
   "mimetype": "text/x-python",
   "name": "python",
   "nbconvert_exporter": "python",
   "pygments_lexer": "ipython3",
   "version": "3.11.5"
  }
 },
 "nbformat": 4,
 "nbformat_minor": 2
}
