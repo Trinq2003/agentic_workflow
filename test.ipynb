{
 "cells": [
  {
   "cell_type": "code",
   "execution_count": 1,
   "metadata": {},
   "outputs": [
    {
     "name": "stderr",
     "output_type": "stream",
     "text": [
      "c:\\Users\\ADMIN\\miniconda3\\envs\\agentic_workflow\\Lib\\site-packages\\tqdm\\auto.py:21: TqdmWarning: IProgress not found. Please update jupyter and ipywidgets. See https://ipywidgets.readthedocs.io/en/stable/user_install.html\n",
      "  from .autonotebook import tqdm as notebook_tqdm\n"
     ]
    }
   ],
   "source": [
    "import logging\n",
    "\n",
    "# Configurations\n",
    "from configuration.llm_inference_configuration import APILLMConfiguration\n",
    "from configuration.embedding_inference_configuration import APIEmbeddingModelConfiguration, LocalEmbeddingModelConfiguration\n",
    "from configuration.nlp_configuration import NLPConfiguration\n",
    "from configuration.tool_configuration import ToolConfiguration\n",
    "from configuration.operator_configuration import CoTOperatorConfiguration\n",
    "# System components\n",
    "from llm.request_llm import RequestLLM\n",
    "from embedding.local_embedding import LocalEmbeddingModel\n",
    "from embedding.request_embedding import RequestEmbeddingModel\n",
    "from nlp.spacy_nlp import SpacyNLP\n",
    "from tools.python_code_runner import PythonCodeRunnerTool\n",
    "from tools.demonstration_sampling import DemonstrationSamplingTool\n",
    "# Prompt\n",
    "from prompt.zero_shot import ZeroShotPrompt\n",
    "from prompt.few_shot import FewShotPrompt\n",
    "from prompt.user_message import UserMessagePrompt\n",
    "from prompt.assistant_message import AssistantMessagePrompt\n",
    "from prompt.tool_message import ToolMessagePrompt\n",
    "# Memory\n",
    "from base_classes.memory.memory_atom import AbstractMemoryAtom\n",
    "from base_classes.memory.memory_block import AbstractMemoryBlock\n",
    "from base_classes.memory.memory_topic import AbstractMemoryTopic\n",
    "from base_classes.memory.datatypes.data_item import PromptDataItem\n",
    "from base_classes.memory.memory_worker import MemoryWorker\n",
    "# MCP\n",
    "# from tools.mcp_server\n",
    "# Operator\n",
    "from base_classes.operator import AbstractOperator\n",
    "from operators.cot import CoTOperator\n",
    "from operators.debate import DebateOperator\n",
    "from operators.react import ReactOperator\n",
    "\n",
    "logging.basicConfig(\n",
    "    level=logging.CRITICAL,\n",
    "    format='%(asctime)s\\t\\t%(levelname)s\\t%(message)s',\n",
    "    handlers=[logging.StreamHandler()]\n",
    ")\n",
    "\n",
    "all_logger_names = list(logging.root.manager.loggerDict.keys())\n",
    "if '' not in all_logger_names:\n",
    "    all_logger_names.append('')\n",
    "\n",
    "for logger_name in all_logger_names:\n",
    "    logger = logging.getLogger(logger_name)\n",
    "    if logger_name.startswith(\"Orbit\"):\n",
    "        logger.setLevel(logging.DEBUG)\n",
    "    elif logger_name == '':\n",
    "        logger.setLevel(logging.CRITICAL)\n",
    "    else:\n",
    "        logger.setLevel(logging.CRITICAL)\n"
   ]
  },
  {
   "cell_type": "markdown",
   "metadata": {},
   "source": [
    "# 1. System component test"
   ]
  },
  {
   "cell_type": "markdown",
   "metadata": {},
   "source": [
    "## 1.1. LLM test"
   ]
  },
  {
   "cell_type": "markdown",
   "metadata": {},
   "source": [
    "### 1.1.1. Azure OpenAI test"
   ]
  },
  {
   "cell_type": "code",
   "execution_count": null,
   "metadata": {},
   "outputs": [],
   "source": [
    "gpt_4o_azure_configuration = APILLMConfiguration()\n",
    "gpt_4o_azure_configuration.load(\"configuration/yaml/llm/azure_gpt_4o.yaml\")\n",
    "azure_gpt_4o = RequestLLM(gpt_4o_azure_configuration)\n",
    "\n",
    "try:\n",
    "    azure_gpt_4o_1 = RequestLLM(gpt_4o_azure_configuration)\n",
    "except Exception as e:\n",
    "    logging.info(\"LLM unique ID test successful\")\n",
    "    logging.error(f\"Failed to create AzureOpenAILLM instance: {e}\")"
   ]
  },
  {
   "cell_type": "code",
   "execution_count": null,
   "metadata": {},
   "outputs": [],
   "source": [
    "sample_zero_shot_message = ZeroShotPrompt(\n",
    "    [\n",
    "        {\n",
    "            \"role\": \"user\", \n",
    "            \"content\": \"Health check. Say 'hi' to start the conversation.\"\n",
    "        }\n",
    "    ]\n",
    ")\n",
    "\n",
    "sample_zero_shot_message_responses = azure_gpt_4o.query(query=sample_zero_shot_message.prompt, num_responses=2)\n",
    "print(azure_gpt_4o.get_response_texts(sample_zero_shot_message_responses))"
   ]
  },
  {
   "cell_type": "code",
   "execution_count": null,
   "metadata": {},
   "outputs": [],
   "source": [
    "sample_few_shots_message = FewShotPrompt(\n",
    "    [\n",
    "        {\n",
    "            \"role\": \"system\", \n",
    "            \"content\": \"You are NetMind assistant. You task is to answer to the user anything about Viettel Group.\"\n",
    "        },\n",
    "        {\n",
    "            \"role\": \"user\", \n",
    "            \"content\": \"Tell me about Viettel Group.\"\n",
    "        },\n",
    "        {\n",
    "            \"role\": \"assistant\", \n",
    "            \"content\": \"Viettel Group is a Vietnamese multinational telecommunications company headquartered in Hanoi, Vietnam. It is a state-owned enterprise and operated by the Ministry of Defence. You can find out more about Viettel Group at https://viettel.vn/.\"\n",
    "        },\n",
    "        {\n",
    "            \"role\": \"user\",\n",
    "            \"content\": \"What is the revenue of Viettel Group? Tell me the list of child companies of Viettel Group?\"\n",
    "        }\n",
    "    ]\n",
    ")\n",
    "\n",
    "sample_few_shots_message_responses = azure_gpt_4o.query(query=sample_few_shots_message.prompt, num_responses=2)\n",
    "print(azure_gpt_4o.get_response_texts(sample_few_shots_message_responses))"
   ]
  },
  {
   "cell_type": "markdown",
   "metadata": {},
   "source": [
    "## 1.2. Embedding test"
   ]
  },
  {
   "cell_type": "markdown",
   "metadata": {},
   "source": [
    "### 1.2.1. Request embedding model test"
   ]
  },
  {
   "cell_type": "code",
   "execution_count": null,
   "metadata": {},
   "outputs": [],
   "source": [
    "text_embedding_ada_002_config = APIEmbeddingModelConfiguration()\n",
    "text_embedding_ada_002_config.load(\"configuration/yaml/embedding/text-embedding-ada-002.yaml\")\n",
    "text_embedding_ada_002 = RequestEmbeddingModel(text_embedding_ada_002_config)"
   ]
  },
  {
   "cell_type": "code",
   "execution_count": null,
   "metadata": {},
   "outputs": [],
   "source": [
    "# text_embedding_ada_002.encode(\"Hello world\")\n",
    "text_embedding_ada_002.similarity(\"Hello world\", \"Hello world\")"
   ]
  },
  {
   "cell_type": "markdown",
   "metadata": {},
   "source": [
    "## 1.3. Tool test"
   ]
  },
  {
   "cell_type": "markdown",
   "metadata": {},
   "source": [
    "### 1.3.1. Python code runner tool"
   ]
  },
  {
   "cell_type": "code",
   "execution_count": null,
   "metadata": {},
   "outputs": [],
   "source": [
    "python_code_runner_config = ToolConfiguration()\n",
    "python_code_runner_config.load(\"configuration/yaml/tools/python_code_runner.yaml\")\n",
    "python_code_runner = PythonCodeRunnerTool(python_code_runner_config)"
   ]
  },
  {
   "cell_type": "code",
   "execution_count": null,
   "metadata": {},
   "outputs": [],
   "source": [
    "input_code_list = [\n",
    "    {\n",
    "        \"code_string\": \"a = 11\\nb = 20\\nresult = a + b\\n\\ndef greet(name):\\n return f'Hello, {name}!'\\n \\nmessage = greet('World')\",\n",
    "        \"id\": \"1\"\n",
    "    },\n",
    "    {\n",
    "        \"code_string\": \"def multiply(x, y):\\n\\treturn x * y\\n\\nnum1 = 5\\nnum2 = 3\\nresult = multiply(num1, num2)\\n\\nprint(f'The product of {num1} and {num2} is {result}.')\",\n",
    "        \"id\": \"2\"\n",
    "    }\n",
    "]\n",
    "\n",
    "results = await python_code_runner.execute(input_code_list=input_code_list)\n",
    "results"
   ]
  },
  {
   "cell_type": "markdown",
   "metadata": {},
   "source": [
    "## 1.4. NLP model test "
   ]
  },
  {
   "cell_type": "markdown",
   "metadata": {},
   "source": [
    "### 1.4.1. SpaCy NLP test"
   ]
  },
  {
   "cell_type": "code",
   "execution_count": null,
   "metadata": {},
   "outputs": [],
   "source": [
    "spacy_nlp_config = NLPConfiguration()\n",
    "spacy_nlp_config.load(\"configuration/yaml/nlp/spacy.yaml\")\n",
    "spacy_model = SpacyNLP(spacy_nlp_config)"
   ]
  },
  {
   "cell_type": "code",
   "execution_count": null,
   "metadata": {},
   "outputs": [],
   "source": [
    "spacy_model.lemmatize(\"Hello, my name is John Doe. I am a software engineer. I love coding and solving problems.\")"
   ]
  },
  {
   "cell_type": "markdown",
   "metadata": {},
   "source": [
    "# 2. Memory test"
   ]
  },
  {
   "cell_type": "code",
   "execution_count": 2,
   "metadata": {},
   "outputs": [
    {
     "name": "stderr",
     "output_type": "stream",
     "text": [
      "2025-06-20 21:28:52,351\t\tDEBUG\t[🔧AbstractMemoryAtom] Memory Atom ID: f241643a-7070-4f94-86a5-5b4093db71d2 | Memory Atom type: 1; Memory Atom state: 1\n",
      "2025-06-20 21:28:52,351\t\tDEBUG\t[🔧AbstractMemoryAtom] Memory Atom ID: e60bfa85-86f4-473a-a63f-16a61be1708a | Memory Atom type: 2; Memory Atom state: 1\n",
      "2025-06-20 21:28:52,352\t\tDEBUG\t[🔧AbstractMemoryAtom] Memory Atom ID: ee26ea7b-5e99-4703-9d1f-f537bee3ea87 | Memory Atom type: 2; Memory Atom state: 1\n",
      "2025-06-20 21:28:52,354\t\tDEBUG\t[🔧AbstractMemoryAtom] Memory Atom ID: af9790f7-62b4-49ad-a12e-7834945c7bb0 | Memory Atom type: 3; Memory Atom state: 1\n",
      "2025-06-20 21:28:52,354\t\tDEBUG\t[🔧AbstractMemoryAtom] Memory Atom ID: 02b25087-a09b-48a2-8e3f-15d3687e715e | Memory Atom type: 2; Memory Atom state: 1\n",
      "2025-06-20 21:28:52,354\t\tDEBUG\t[🔧AbstractMemoryAtom] Memory Atom ID: 641d0c4e-864d-41d3-904c-aafdb6978741 | Memory Atom type: 1; Memory Atom state: 1\n",
      "2025-06-20 21:28:52,355\t\tDEBUG\t[🔧AbstractMemoryAtom] Memory Atom ID: 863a8b30-738a-48e8-9e82-cdabb56df507 | Memory Atom type: 2; Memory Atom state: 1\n",
      "2025-06-20 21:28:52,355\t\tDEBUG\t[🔧AbstractMemoryAtom] Memory Atom ID: d78b33da-372d-4143-aa98-dd445e5841b9 | Memory Atom type: 3; Memory Atom state: 1\n",
      "2025-06-20 21:28:52,357\t\tDEBUG\t[🔧AbstractMemoryAtom] Memory Atom ID: 0ed4d458-1f04-46a8-9e1b-3f41eaa4eb0f | Memory Atom type: 2; Memory Atom state: 1\n",
      "2025-06-20 21:28:52,358\t\tDEBUG\t[🔧AbstractMemoryAtom] Memory Atom ID: 9699126a-4764-43ba-96cf-117de9088d36 | Memory Atom type: 1; Memory Atom state: 1\n",
      "2025-06-20 21:28:52,358\t\tDEBUG\t[🔧AbstractMemoryAtom] Memory Atom ID: 7bacd1b8-95b1-49d7-9eda-04f0260f6074 | Memory Atom type: 2; Memory Atom state: 1\n",
      "2025-06-20 21:28:52,359\t\tDEBUG\t[🔧AbstractMemoryAtom] Memory Atom ID: 7e6d7cce-bb49-49a2-9aec-3c824ca54c9b | Memory Atom type: 1; Memory Atom state: 1\n",
      "2025-06-20 21:28:52,361\t\tDEBUG\t[🔧AbstractMemoryAtom] Memory Atom ID: 84f72095-1715-441d-9c1a-c9c21a35227a | Memory Atom type: 2; Memory Atom state: 1\n",
      "2025-06-20 21:28:52,361\t\tDEBUG\t[🔧AbstractMemoryAtom] Memory Atom ID: 10b5a91c-07de-4fea-989a-9dad148588bf | Memory Atom type: 1; Memory Atom state: 1\n",
      "2025-06-20 21:28:52,362\t\tDEBUG\t[🔧AbstractMemoryAtom] Memory Atom ID: c3e72f2e-caf3-43b8-b680-4c01fad75c9e | Memory Atom type: 2; Memory Atom state: 1\n",
      "2025-06-20 21:28:52,363\t\tDEBUG\t[🔧AbstractMemoryAtom] Memory Atom ID: 9471dc29-500c-4540-8ff5-d74b9ea2c62c | Memory Atom type: 3; Memory Atom state: 1\n",
      "2025-06-20 21:28:52,366\t\tDEBUG\t[🔧AbstractMemoryAtom] Memory Atom ID: ecfc400e-6766-43ec-9ef2-c573517e73b4 | Memory Atom type: 2; Memory Atom state: 1\n",
      "2025-06-20 21:28:52,366\t\tDEBUG\t[🔧AbstractMemoryAtom] Memory Atom ID: 2c368782-59b6-4649-a4b0-c4a520caf3bc | Memory Atom type: 1; Memory Atom state: 1\n",
      "2025-06-20 21:28:52,367\t\tDEBUG\t[🔧AbstractMemoryAtom] Memory Atom ID: 12a61daf-6204-4d29-82ae-c6773cf715a8 | Memory Atom type: 2; Memory Atom state: 1\n",
      "2025-06-20 21:28:52,369\t\tDEBUG\t[🔧AbstractMemoryBlock] Added memory atom f241643a-7070-4f94-86a5-5b4093db71d2 to memory block aa45905e-89f6-4bfa-ba7d-e0af5503ee1b.\n",
      "2025-06-20 21:28:52,370\t\tDEBUG\t[🔧AbstractMemoryBlock] Added memory atom e60bfa85-86f4-473a-a63f-16a61be1708a to memory block aa45905e-89f6-4bfa-ba7d-e0af5503ee1b.\n",
      "2025-06-20 21:28:52,371\t\tDEBUG\t[🔧AbstractMemoryBlock] Added memory atom ee26ea7b-5e99-4703-9d1f-f537bee3ea87 to memory block aa45905e-89f6-4bfa-ba7d-e0af5503ee1b.\n",
      "2025-06-20 21:28:52,371\t\tDEBUG\t[🔧AbstractMemoryBlock] Added memory atom af9790f7-62b4-49ad-a12e-7834945c7bb0 to memory block aa45905e-89f6-4bfa-ba7d-e0af5503ee1b.\n",
      "2025-06-20 21:28:52,373\t\tDEBUG\t[🔧AbstractMemoryBlock] Added memory atom 02b25087-a09b-48a2-8e3f-15d3687e715e to memory block aa45905e-89f6-4bfa-ba7d-e0af5503ee1b.\n",
      "2025-06-20 21:28:52,373\t\tDEBUG\t[🔧AbstractMemoryBlock] \n",
      "Memory Block's Atom Dependency Graph:\n",
      "==================================================\n",
      "02b2(A)─ee26(A)─e60b(A)─f241(U)\n",
      "   └────af97(T)────┘                      \n",
      "==================================================\n",
      "2025-06-20 21:28:52,374\t\tDEBUG\t[🔧AbstractMemoryBlock] Added memory atom 641d0c4e-864d-41d3-904c-aafdb6978741 to memory block 860713b0-974c-4925-8fb1-be685ee0de1f.\n",
      "2025-06-20 21:28:52,375\t\tDEBUG\t[🔧AbstractMemoryBlock] Added memory atom 863a8b30-738a-48e8-9e82-cdabb56df507 to memory block 860713b0-974c-4925-8fb1-be685ee0de1f.\n",
      "2025-06-20 21:28:52,375\t\tDEBUG\t[🔧AbstractMemoryBlock] Added memory atom d78b33da-372d-4143-aa98-dd445e5841b9 to memory block 860713b0-974c-4925-8fb1-be685ee0de1f.\n",
      "2025-06-20 21:28:52,377\t\tDEBUG\t[🔧AbstractMemoryBlock] Added memory atom 0ed4d458-1f04-46a8-9e1b-3f41eaa4eb0f to memory block 860713b0-974c-4925-8fb1-be685ee0de1f.\n",
      "2025-06-20 21:28:52,377\t\tDEBUG\t[🔧AbstractMemoryBlock] \n",
      "Memory Block's Atom Dependency Graph:\n",
      "==================================================\n",
      "0ed4(A)─d78b(T)─863a(A)─641d(U)\n",
      "==================================================\n",
      "2025-06-20 21:28:52,378\t\tDEBUG\t[🔧AbstractMemoryBlock] Added memory atom 9699126a-4764-43ba-96cf-117de9088d36 to memory block 3256b64f-dded-4eb9-a31d-6861025d9bda.\n",
      "2025-06-20 21:28:52,379\t\tDEBUG\t[🔧AbstractMemoryBlock] Added memory atom 7bacd1b8-95b1-49d7-9eda-04f0260f6074 to memory block 3256b64f-dded-4eb9-a31d-6861025d9bda.\n",
      "2025-06-20 21:28:52,379\t\tDEBUG\t[🔧AbstractMemoryBlock] \n",
      "Memory Block's Atom Dependency Graph:\n",
      "==================================================\n",
      "7bac(A)─9699(U)\n",
      "==================================================\n",
      "2025-06-20 21:28:52,381\t\tDEBUG\t[🔧AbstractMemoryBlock] Added memory atom 7e6d7cce-bb49-49a2-9aec-3c824ca54c9b to memory block 591b9166-b241-4aab-9e0c-9126b3e31909.\n",
      "2025-06-20 21:28:52,382\t\tDEBUG\t[🔧AbstractMemoryBlock] Added memory atom 84f72095-1715-441d-9c1a-c9c21a35227a to memory block 591b9166-b241-4aab-9e0c-9126b3e31909.\n",
      "2025-06-20 21:28:52,382\t\tDEBUG\t[🔧AbstractMemoryBlock] \n",
      "Memory Block's Atom Dependency Graph:\n",
      "==================================================\n",
      "84f7(A)─7e6d(U)\n",
      "==================================================\n",
      "2025-06-20 21:28:52,384\t\tDEBUG\t[🔧AbstractMemoryBlock] Added memory atom 10b5a91c-07de-4fea-989a-9dad148588bf to memory block 8043775f-445d-4929-97a7-bfea54c31b16.\n",
      "2025-06-20 21:28:52,385\t\tDEBUG\t[🔧AbstractMemoryBlock] Added memory atom c3e72f2e-caf3-43b8-b680-4c01fad75c9e to memory block 8043775f-445d-4929-97a7-bfea54c31b16.\n",
      "2025-06-20 21:28:52,386\t\tDEBUG\t[🔧AbstractMemoryBlock] Added memory atom 9471dc29-500c-4540-8ff5-d74b9ea2c62c to memory block 8043775f-445d-4929-97a7-bfea54c31b16.\n",
      "2025-06-20 21:28:52,387\t\tDEBUG\t[🔧AbstractMemoryBlock] Added memory atom ecfc400e-6766-43ec-9ef2-c573517e73b4 to memory block 8043775f-445d-4929-97a7-bfea54c31b16.\n",
      "2025-06-20 21:28:52,387\t\tDEBUG\t[🔧AbstractMemoryBlock] \n",
      "Memory Block's Atom Dependency Graph:\n",
      "==================================================\n",
      "ecfc(A)─9471(T)─c3e7(A)─10b5(U)\n",
      "==================================================\n",
      "2025-06-20 21:28:52,388\t\tDEBUG\t[🔧AbstractMemoryBlock] Added memory atom 2c368782-59b6-4649-a4b0-c4a520caf3bc to memory block 7059c46f-f5ec-476c-be39-1a29743e40bf.\n",
      "2025-06-20 21:28:52,390\t\tDEBUG\t[🔧AbstractMemoryBlock] Added memory atom 12a61daf-6204-4d29-82ae-c6773cf715a8 to memory block 7059c46f-f5ec-476c-be39-1a29743e40bf.\n",
      "2025-06-20 21:28:52,391\t\tDEBUG\t[🔧AbstractMemoryBlock] \n",
      "Memory Block's Atom Dependency Graph:\n",
      "==================================================\n",
      "12a6(A)─2c36(U)\n",
      "==================================================\n",
      "2025-06-20 21:28:52,392\t\tDEBUG\t[🔧AbstractMemoryTopic] Inserted Memory Block ID aa45905e-89f6-4bfa-ba7d-e0af5503ee1b into Memory Topic d28248be-a2cc-4ecb-a0bd-2209338a59fa. New MemBlock's topic conatiner ID: [UUID('d28248be-a2cc-4ecb-a0bd-2209338a59fa')].\n",
      "2025-06-20 21:28:52,393\t\tDEBUG\t[🔧AbstractMemoryTopic] Inserted Memory Block ID 860713b0-974c-4925-8fb1-be685ee0de1f into Memory Topic d28248be-a2cc-4ecb-a0bd-2209338a59fa. New MemBlock's topic conatiner ID: [UUID('d28248be-a2cc-4ecb-a0bd-2209338a59fa'), UUID('d28248be-a2cc-4ecb-a0bd-2209338a59fa')].\n",
      "2025-06-20 21:28:52,395\t\tDEBUG\t[🔧AbstractMemoryTopic] Inserted Memory Block ID 3256b64f-dded-4eb9-a31d-6861025d9bda into Memory Topic d28248be-a2cc-4ecb-a0bd-2209338a59fa. New MemBlock's topic conatiner ID: [UUID('d28248be-a2cc-4ecb-a0bd-2209338a59fa'), UUID('d28248be-a2cc-4ecb-a0bd-2209338a59fa'), UUID('d28248be-a2cc-4ecb-a0bd-2209338a59fa')].\n",
      "2025-06-20 21:28:52,395\t\tDEBUG\t[🔧AbstractMemoryTopic] Inserted Memory Block ID 591b9166-b241-4aab-9e0c-9126b3e31909 into Memory Topic 20e14c05-9846-4ce1-96d8-c28280dca7ec. New MemBlock's topic conatiner ID: [UUID('d28248be-a2cc-4ecb-a0bd-2209338a59fa'), UUID('d28248be-a2cc-4ecb-a0bd-2209338a59fa'), UUID('d28248be-a2cc-4ecb-a0bd-2209338a59fa'), UUID('20e14c05-9846-4ce1-96d8-c28280dca7ec')].\n",
      "2025-06-20 21:28:52,396\t\tDEBUG\t[🔧AbstractMemoryTopic] Inserted Memory Block ID 8043775f-445d-4929-97a7-bfea54c31b16 into Memory Topic 20e14c05-9846-4ce1-96d8-c28280dca7ec. New MemBlock's topic conatiner ID: [UUID('d28248be-a2cc-4ecb-a0bd-2209338a59fa'), UUID('d28248be-a2cc-4ecb-a0bd-2209338a59fa'), UUID('d28248be-a2cc-4ecb-a0bd-2209338a59fa'), UUID('20e14c05-9846-4ce1-96d8-c28280dca7ec'), UUID('20e14c05-9846-4ce1-96d8-c28280dca7ec')].\n",
      "2025-06-20 21:28:52,397\t\tDEBUG\t[🔧AbstractMemoryTopic] Inserted Memory Block ID 7059c46f-f5ec-476c-be39-1a29743e40bf into Memory Topic 83f4587e-c7ce-4501-9e57-8358067c860c. New MemBlock's topic conatiner ID: [UUID('d28248be-a2cc-4ecb-a0bd-2209338a59fa'), UUID('d28248be-a2cc-4ecb-a0bd-2209338a59fa'), UUID('d28248be-a2cc-4ecb-a0bd-2209338a59fa'), UUID('20e14c05-9846-4ce1-96d8-c28280dca7ec'), UUID('20e14c05-9846-4ce1-96d8-c28280dca7ec'), UUID('83f4587e-c7ce-4501-9e57-8358067c860c')].\n"
     ]
    }
   ],
   "source": [
    "from test_utils.memory import *"
   ]
  },
  {
   "cell_type": "code",
   "execution_count": 3,
   "metadata": {},
   "outputs": [
    {
     "name": "stderr",
     "output_type": "stream",
     "text": [
      "2025-06-20 21:28:57,795\t\tDEBUG\t[🔧NLPConfiguration] List of NLPConfiguration's properties: dict_keys(['nlp_id', 'library', 'model_name', 'dependencies'])\n",
      "2025-06-20 21:28:57,796\t\tDEBUG\t[🔧NLPConfiguration] List of NLPConfiguration's sensitive properties: []\n",
      "2025-06-20 21:28:57,799\t\tDEBUG\t[🔧SpacyNLP] System Component ID: SYSTEM_COMPONENT | 0 | Component type: <class 'nlp.spacy_nlp.SpacyNLP'>\n",
      "2025-06-20 21:28:57,800\t\tDEBUG\t[🔧SpacyNLP] NLP model ID: NLP | en_core_web_sm\n",
      "2025-06-20 21:28:58,848\t\tDEBUG\t[🔧APILLMConfiguration] List of APILLMConfiguration's properties: dict_keys(['llm_id', 'model.provider', 'model.model_name', 'model.temperature', 'model.max_tokens', 'model.stream', 'cache.enabled', 'cache.cache_expiry', 'llm_api.api_key', 'llm_api.api_base', 'llm_api.api_version', 'llm_api.deployment_name', 'cost.prompt_token_cost', 'cost.response_token_cost', 'retry.max_retries', 'retry.backoff_factor', 'security.encrypted', 'security.trust_strategy'])\n",
      "2025-06-20 21:28:58,849\t\tDEBUG\t[🔧APILLMConfiguration] List of APILLMConfiguration's sensitive properties: []\n",
      "2025-06-20 21:28:58,854\t\tDEBUG\t[🔧RequestLLM] System Component ID: SYSTEM_COMPONENT | 1 | Component type: <class 'llm.request_llm.RequestLLM'>\n",
      "2025-06-20 21:28:58,854\t\tINFO\t[ℹ️RequestLLM] ✅ LLM config loaded: azure_gpt_4o\n",
      "2025-06-20 21:28:59,321\t\tINFO\t[ℹ️RequestLLM] ✅ Model loaded successfully: gpt-4o\n",
      "2025-06-20 21:28:59,322\t\tDEBUG\t[🔧RequestLLM] LLM ID: LLM | azure_gpt_4o\n",
      "2025-06-20 21:28:59,323\t\tDEBUG\t[🔧APIEmbeddingModelConfiguration] List of APIEmbeddingModelConfiguration's properties: dict_keys(['emb_id', 'model.provider', 'model.model_name', 'model.max_tokens', 'model.embedding_dims', 'model.identical_threshold', 'emb_api.api_base', 'emb_api.api_token', 'emb_api.api_version', 'emb_api.deployment_name', 'emb_api.trust_remote_code', 'cost.prompt_token_cost', 'cost.response_token_cost', 'retry.max_retries', 'retry.backoff_factor'])\n",
      "2025-06-20 21:28:59,324\t\tDEBUG\t[🔧APIEmbeddingModelConfiguration] List of APIEmbeddingModelConfiguration's sensitive properties: []\n",
      "2025-06-20 21:28:59,330\t\tDEBUG\t[🔧RequestEmbeddingModel] System Component ID: SYSTEM_COMPONENT | 2 | Component type: <class 'embedding.request_embedding.RequestEmbeddingModel'>\n",
      "2025-06-20 21:28:59,331\t\tINFO\t[ℹ️RequestEmbeddingModel] ✅ Embedding config loaded: text-embedding-ada-002\n",
      "2025-06-20 21:28:59,377\t\tINFO\t[ℹ️RequestEmbeddingModel] ✅ Embedding model loaded successfully: text-embedding-ada-002\n",
      "2025-06-20 21:28:59,379\t\tDEBUG\t[🔧MemoryWorker] Memory Worker initialized with LLM: LLM | azure_gpt_4o, Embedding Model: EMBEDDING | text-embedding-ada-002, NLP Model: NLP | en_core_web_sm.\n"
     ]
    }
   ],
   "source": [
    "# Memory Worker Initiation\n",
    "spacy_nlp_config = NLPConfiguration()\n",
    "spacy_nlp_config.load(\"configuration/yaml/nlp/spacy.yaml\")\n",
    "spacy_model = SpacyNLP(spacy_nlp_config)\n",
    "\n",
    "gpt_4o_azure_configuration = APILLMConfiguration()\n",
    "gpt_4o_azure_configuration.load(\"configuration/yaml/llm/azure_gpt_4o.yaml\")\n",
    "azure_gpt_4o = RequestLLM(gpt_4o_azure_configuration)\n",
    "\n",
    "text_embedding_ada_002_config = APIEmbeddingModelConfiguration()\n",
    "text_embedding_ada_002_config.load(\"configuration/yaml/embedding/text-embedding-ada-002.yaml\")\n",
    "text_embedding_ada_002 = RequestEmbeddingModel(text_embedding_ada_002_config)\n",
    "\n",
    "memory_worker = MemoryWorker(\n",
    "    emb_model=text_embedding_ada_002,\n",
    "    llm=azure_gpt_4o,\n",
    "    nlp_model=spacy_model\n",
    ")"
   ]
  },
  {
   "cell_type": "code",
   "execution_count": 4,
   "metadata": {},
   "outputs": [
    {
     "name": "stderr",
     "output_type": "stream",
     "text": [
      "2025-06-20 21:29:03,057\t\tDEBUG\t[🔧MemoryWorker] Keywords for Memblock aa45905e-89f6-4bfa-ba7d-e0af5503ee1b: ['aa45905e-89f6-4bfa-ba7d-e0af5503ee1b', 'f241643a-7070-4f94-86a5-5b4093db71d2', 'e60bfa85-86f4-473a-a63f-16a61be1708a', 'ee26ea7b-5e99-4703-9d1f-f537bee3ea87', 'af9790f7-62b4-49ad-a12e-7834945c7bb0', '02b25087-a09b-48a2-8e3f-15d3687e715e', 'add_sum()', 'print()', 'nprint()', 'memoryblock', 'memoryatom', 'user', 'message', 'sum', 'assistant', 'response', 'order', 'number', 'python', 'code', 'add_sum', 'function', 'variable', 'result', 'execution', 'name', 'argument', '11\\\\nb', 'result}.\")\\\\nreturn']\n",
      "2025-06-20 21:29:05,382\t\tDEBUG\t[🔧MemoryWorker] Generated embeddings for Memblock aa45905e-89f6-4bfa-ba7d-e0af5503ee1b\n",
      "2025-06-20 21:29:05,683\t\tDEBUG\t[🔧MemoryWorker] Keywords for Memblock 860713b0-974c-4925-8fb1-be685ee0de1f: ['860713b0-974c-4925-8fb1-be685ee0de1f', '641d0c4e-864d-41d3-904c-aafdb6978741', '863a8b30-738a-48e8-9e82-cdabb56df507', 'd78b33da-372d-4143-aa98-dd445e5841b9', '0ed4d458-1f04-46a8-9e1b-3f41eaa4eb0f', 'run_python_code()', 'print()', 'nprint()', 'memoryblock', 'memoryatom', 'user', 'message', 'run_python_code', 'assistant', 'response', 'run_python_code(code=\"a', 'result', 'sum', 'return', 'execution', 'name', 'argument', '100\\\\nb', 'result}.\")\\\\nreturn']\n",
      "2025-06-20 21:29:06,911\t\tDEBUG\t[🔧MemoryWorker] Generated embeddings for Memblock 860713b0-974c-4925-8fb1-be685ee0de1f\n",
      "2025-06-20 21:29:07,094\t\tDEBUG\t[🔧MemoryWorker] Keywords for Memblock 3256b64f-dded-4eb9-a31d-6861025d9bda: ['3256b64f-dded-4eb9-a31d-6861025d9bda', '9699126a-4764-43ba-96cf-117de9088d36', '7bacd1b8-95b1-49d7-9eda-04f0260f6074', 'sum()', 'print()', 'memoryblock', 'memoryatom', 'user', 'message', 'list', 'number', 'assistant', 'response', 'python', 'sum', 'function', 'total', 'sum(number', 'print(total', 'output']\n",
      "2025-06-20 21:29:08,283\t\tDEBUG\t[🔧MemoryWorker] Generated embeddings for Memblock 3256b64f-dded-4eb9-a31d-6861025d9bda\n",
      "2025-06-20 21:29:08,483\t\tDEBUG\t[🔧MemoryWorker] Keywords for Memblock 591b9166-b241-4aab-9e0c-9126b3e31909: ['591b9166-b241-4aab-9e0c-9126b3e31909', '7e6d7cce-bb49-49a2-9aec-3c824ca54c9b', '84f72095-1715-441d-9c1a-c9c21a35227a', 'multiply_list()', 'memoryblock', 'memoryatom', 'user', 'message', 'function', 'number', 'list', 'assistant', 'response', 'python', 'multiply_list(number', 'result', 'return', 'example', 'multiply_list([2']\n",
      "2025-06-20 21:29:09,667\t\tDEBUG\t[🔧MemoryWorker] Generated embeddings for Memblock 591b9166-b241-4aab-9e0c-9126b3e31909\n",
      "2025-06-20 21:29:09,907\t\tDEBUG\t[🔧MemoryWorker] Keywords for Memblock 8043775f-445d-4929-97a7-bfea54c31b16: ['8043775f-445d-4929-97a7-bfea54c31b16', '10b5a91c-07de-4fea-989a-9dad148588bf', 'c3e72f2e-caf3-43b8-b680-4c01fad75c9e', '9471dc29-500c-4540-8ff5-d74b9ea2c62c', 'ecfc400e-6766-43ec-9ef2-c573517e73b4', 'multiply_list()', 'nprint()', 'memoryblock', 'memoryatom', 'user', 'message', 'multiply_list', 'function', 'result', 'assistant', 'response', 'execution', 'name', 'argument', 'code', 'number', 'result}.\")\\\\nreturn']\n",
      "2025-06-20 21:29:11,187\t\tDEBUG\t[🔧MemoryWorker] Generated embeddings for Memblock 8043775f-445d-4929-97a7-bfea54c31b16\n",
      "2025-06-20 21:29:11,360\t\tDEBUG\t[🔧MemoryWorker] Keywords for Memblock 7059c46f-f5ec-476c-be39-1a29743e40bf: ['7059c46f-f5ec-476c-be39-1a29743e40bf', '2c368782-59b6-4649-a4b0-c4a520caf3bc', '12a61daf-6204-4d29-82ae-c6773cf715a8', 'memoryblock', 'memoryatom', 'user', 'message', 'apple', 'assistant', 'response', 'step']\n",
      "2025-06-20 21:29:12,972\t\tDEBUG\t[🔧MemoryWorker] Generated embeddings for Memblock 7059c46f-f5ec-476c-be39-1a29743e40bf\n",
      "2025-06-20 21:29:12,973\t\tDEBUG\t[🔧MemoryWorker] Memtopic keywords: ['list', 'sum', 'af9790f7-62b4-49ad-a12e-7834945c7bb0', 'nprint()', 'execution', '3256b64f-dded-4eb9-a31d-6861025d9bda', 'run_python_code()', 'run_python_code(code=\"a', 'response', 'user', 'aa45905e-89f6-4bfa-ba7d-e0af5503ee1b', 'total', 'sum()', '7bacd1b8-95b1-49d7-9eda-04f0260f6074', '02b25087-a09b-48a2-8e3f-15d3687e715e', 'python', 'number', 'function', 'memoryatom', 'ee26ea7b-5e99-4703-9d1f-f537bee3ea87', '0ed4d458-1f04-46a8-9e1b-3f41eaa4eb0f', 'print(total', '9699126a-4764-43ba-96cf-117de9088d36', 'memoryblock', 'print()', 'sum(number', 'return', 'result}.\")\\\\nreturn', 'order', 'd78b33da-372d-4143-aa98-dd445e5841b9', '863a8b30-738a-48e8-9e82-cdabb56df507', 'message', 'assistant', 'e60bfa85-86f4-473a-a63f-16a61be1708a', 'variable', 'name', '11\\\\nb', '641d0c4e-864d-41d3-904c-aafdb6978741', '860713b0-974c-4925-8fb1-be685ee0de1f', 'code', 'f241643a-7070-4f94-86a5-5b4093db71d2', 'add_sum()', 'argument', 'result', 'run_python_code', 'add_sum', 'output', '100\\\\nb']\n",
      "2025-06-20 21:29:12,978\t\tDEBUG\t[🔧MemoryWorker] Memtopic keywords: ['list', '10b5a91c-07de-4fea-989a-9dad148588bf', 'nprint()', 'execution', 'example', '8043775f-445d-4929-97a7-bfea54c31b16', 'ecfc400e-6766-43ec-9ef2-c573517e73b4', 'response', 'user', 'c3e72f2e-caf3-43b8-b680-4c01fad75c9e', '7e6d7cce-bb49-49a2-9aec-3c824ca54c9b', 'python', 'number', 'multiply_list()', '84f72095-1715-441d-9c1a-c9c21a35227a', 'function', 'memoryatom', 'multiply_list([2', 'memoryblock', 'return', 'result}.\")\\\\nreturn', '591b9166-b241-4aab-9e0c-9126b3e31909', 'message', 'assistant', 'name', 'multiply_list(number', 'code', '9471dc29-500c-4540-8ff5-d74b9ea2c62c', 'multiply_list', 'argument', 'result']\n",
      "2025-06-20 21:29:12,980\t\tDEBUG\t[🔧MemoryWorker] Memtopic keywords: ['response', '2c368782-59b6-4649-a4b0-c4a520caf3bc', 'memoryblock', '12a61daf-6204-4d29-82ae-c6773cf715a8', 'step', 'memoryatom', 'apple', 'user', '7059c46f-f5ec-476c-be39-1a29743e40bf', 'message', 'assistant']\n"
     ]
    }
   ],
   "source": [
    "memory_worker.feature_engineer_for_memory_block(mem_block_1)\n",
    "memory_worker.feature_engineer_for_memory_block(mem_block_2)\n",
    "memory_worker.feature_engineer_for_memory_block(mem_block_3)\n",
    "memory_worker.feature_engineer_for_memory_block(mem_block_4)\n",
    "memory_worker.feature_engineer_for_memory_block(mem_block_5)\n",
    "memory_worker.feature_engineer_for_memory_block(mem_block_6)\n",
    "\n",
    "memory_worker.feature_engineer_for_memory_topic(mem_topic_1)\n",
    "memory_worker.feature_engineer_for_memory_topic(mem_topic_2)\n",
    "memory_worker.feature_engineer_for_memory_topic(mem_topic_3)"
   ]
  },
  {
   "cell_type": "code",
   "execution_count": 5,
   "metadata": {},
   "outputs": [
    {
     "name": "stderr",
     "output_type": "stream",
     "text": [
      "2025-06-20 21:29:16,936\t\tDEBUG\t[🔧AbstractMemoryAtom] Memory Atom ID: 0ed3fa7e-0c67-49a6-9f54-7a84c549454f | Memory Atom type: 1; Memory Atom state: 1\n",
      "2025-06-20 21:29:16,937\t\tDEBUG\t[🔧AbstractMemoryBlock] Added memory atom 0ed3fa7e-0c67-49a6-9f54-7a84c549454f to memory block 50c259b0-f1ac-48d2-abdf-31aa9a5cf9dd.\n"
     ]
    }
   ],
   "source": [
    "new_query = [{\n",
    "    'role': 'user',\n",
    "    'content': 'how can I build 10 banana-shape buildings in Hanoi?'\n",
    "}]\n",
    "new_mem_atom = AbstractMemoryAtom(data=PromptDataItem(UserMessagePrompt(new_query)))\n",
    "\n",
    "new_mem_block = AbstractMemoryBlock()\n",
    "new_mem_block.add_memory_atom(new_mem_atom)"
   ]
  },
  {
   "cell_type": "code",
   "execution_count": 6,
   "metadata": {},
   "outputs": [
    {
     "name": "stderr",
     "output_type": "stream",
     "text": [
      "2025-06-20 21:29:21,681\t\tDEBUG\t[🔧SpacyNLP] NLP processed text: ['how', 'can', 'I', 'build', '10', 'banana', '-', 'shape', 'buildings', 'in', 'Hanoi', '?']\n",
      "2025-06-20 21:29:21,682\t\tDEBUG\t[🔧MemoryWorker] query_word_count: 12\n",
      "2025-06-20 21:29:21,683\t\tDEBUG\t[🔧MemoryWorker] Processing topic d28248be-a2cc-4ecb-a0bd-2209338a59fa\n",
      "2025-06-20 21:29:21,684\t\tDEBUG\t[🔧MemoryWorker] Last block of topic d28248be-a2cc-4ecb-a0bd-2209338a59fa: 3256b64f-dded-4eb9-a31d-6861025d9bda\n",
      "c:\\Users\\ADMIN\\Code\\VTNET\\agentic_workflow\\base_classes\\memory\\memory_worker.py:417: UserWarning: To copy construct from a tensor, it is recommended to use sourceTensor.detach().clone() or sourceTensor.detach().clone().requires_grad_(True), rather than torch.tensor(sourceTensor).\n",
      "  topic_emb_tensor = torch.tensor(topic_emb, dtype=torch.float64)\n",
      "2025-06-20 21:29:22,941\t\tDEBUG\t[🔧MemoryWorker] Rule 3 - topic_scores: [(<base_classes.memory.memory_topic.AbstractMemoryTopic object at 0x0000024354BAA390>, 0.7267801708184775)]\n",
      "2025-06-20 21:29:22,942\t\tDEBUG\t[🔧MemoryWorker] Processing topic 20e14c05-9846-4ce1-96d8-c28280dca7ec\n",
      "2025-06-20 21:29:22,942\t\tDEBUG\t[🔧MemoryWorker] Last block of topic 20e14c05-9846-4ce1-96d8-c28280dca7ec: 8043775f-445d-4929-97a7-bfea54c31b16\n",
      "2025-06-20 21:29:23,243\t\tDEBUG\t[🔧MemoryWorker] Rule 3 - topic_scores: [(<base_classes.memory.memory_topic.AbstractMemoryTopic object at 0x0000024354BAA390>, 0.7267801708184775), (<base_classes.memory.memory_topic.AbstractMemoryTopic object at 0x0000024355292BD0>, 0.7163030306576865)]\n",
      "2025-06-20 21:29:23,244\t\tDEBUG\t[🔧MemoryWorker] Processing topic 83f4587e-c7ce-4501-9e57-8358067c860c\n",
      "2025-06-20 21:29:23,244\t\tDEBUG\t[🔧MemoryWorker] Last block of topic 83f4587e-c7ce-4501-9e57-8358067c860c: 7059c46f-f5ec-476c-be39-1a29743e40bf\n",
      "2025-06-20 21:29:23,543\t\tDEBUG\t[🔧MemoryWorker] Rule 3 - topic_scores: [(<base_classes.memory.memory_topic.AbstractMemoryTopic object at 0x0000024354BAA390>, 0.7267801708184775), (<base_classes.memory.memory_topic.AbstractMemoryTopic object at 0x0000024355292BD0>, 0.7163030306576865), (<base_classes.memory.memory_topic.AbstractMemoryTopic object at 0x0000024355293E60>, 0.7629415171830999)]\n"
     ]
    }
   ],
   "source": [
    "relevant_topics = memory_worker.select_relevant_topics(new_mem_block, mem_stack, top_n=-1)"
   ]
  },
  {
   "cell_type": "code",
   "execution_count": 8,
   "metadata": {},
   "outputs": [
    {
     "name": "stdout",
     "output_type": "stream",
     "text": [
      "MemoryBlock 7059c46f-f5ec-476c-be39-1a29743e40bf:\n",
      "\tMemoryAtom 2c368782-59b6-4649-a4b0-c4a520caf3bc:\n",
      "\t\tUser message: \n",
      "\t\t\tIf I have 10 apples, eat 3, add 7, and then eat 2, how many apples do I have?\n",
      "\tMemoryAtom 12a61daf-6204-4d29-82ae-c6773cf715a8:\n",
      "\t\tAssistant response: \n",
      "\t\t\tLet's break it down step by step:\n",
      "\t\t\t1. Start with 10 apples.\n",
      "\t\t\t2. Eat 3: 10 - 3 = 7 apples left.\n",
      "\t\t\t3. Add 7: 7 + 7 = 14 apples.\n",
      "\n",
      "\t\t\t4. Eat 2: 14 - 2 = 12 apples.\n",
      "\t\t\tYou have 12 apples.\n"
     ]
    }
   ],
   "source": [
    "print(str(relevant_topics[0][0].chain_of_memblocks[-1]))\n",
    "# len(relevant_topics)"
   ]
  },
  {
   "cell_type": "markdown",
   "metadata": {},
   "source": [
    "# 3. Operator"
   ]
  },
  {
   "cell_type": "markdown",
   "metadata": {},
   "source": [
    "## 3.1. CoT"
   ]
  },
  {
   "cell_type": "code",
   "execution_count": null,
   "metadata": {},
   "outputs": [],
   "source": [
    "gpt_4o_azure_configuration = APILLMConfiguration()\n",
    "gpt_4o_azure_configuration.load(\"configuration/yaml/llm/azure_gpt_4o.yaml\")\n",
    "azure_gpt_4o = AzureOpenAILLM(gpt_4o_azure_configuration)\n",
    "\n",
    "demonstration_sampling_tool_config = ToolConfiguration()\n",
    "demonstration_sampling_tool_config.load(\"configuration/yaml/tools/demonstration_sampling.yaml\")\n",
    "demonstration_sampling_tool = DemonstrationSamplingTool(demonstration_sampling_tool_config)"
   ]
  },
  {
   "cell_type": "code",
   "execution_count": null,
   "metadata": {},
   "outputs": [],
   "source": [
    "cot_operator_config = CoTOperatorConfiguration()\n",
    "cot_operator_config.load(\"configuration/yaml/operators/cot.yaml\")"
   ]
  },
  {
   "cell_type": "code",
   "execution_count": null,
   "metadata": {},
   "outputs": [],
   "source": [
    "cot_operator = CoTOperator(config=cot_operator_config)"
   ]
  },
  {
   "cell_type": "code",
   "execution_count": null,
   "metadata": {},
   "outputs": [],
   "source": [
    "CoTOperator.__dict__"
   ]
  },
  {
   "cell_type": "code",
   "execution_count": null,
   "metadata": {},
   "outputs": [],
   "source": [
    "AzureOpenAILLM.__dict__['logger']"
   ]
  },
  {
   "cell_type": "code",
   "execution_count": null,
   "metadata": {},
   "outputs": [],
   "source": []
  },
  {
   "cell_type": "code",
   "execution_count": null,
   "metadata": {},
   "outputs": [],
   "source": []
  }
 ],
 "metadata": {
  "kernelspec": {
   "display_name": "agentic_workflow",
   "language": "python",
   "name": "python3"
  },
  "language_info": {
   "codemirror_mode": {
    "name": "ipython",
    "version": 3
   },
   "file_extension": ".py",
   "mimetype": "text/x-python",
   "name": "python",
   "nbconvert_exporter": "python",
   "pygments_lexer": "ipython3",
   "version": "3.12.0"
  }
 },
 "nbformat": 4,
 "nbformat_minor": 2
}
