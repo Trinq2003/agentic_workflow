{
 "cells": [
  {
   "cell_type": "code",
   "execution_count": 1,
   "metadata": {},
   "outputs": [
    {
     "name": "stderr",
     "output_type": "stream",
     "text": [
      "c:\\Users\\ADMIN\\miniconda3\\envs\\agentic_workflow\\Lib\\site-packages\\tqdm\\auto.py:21: TqdmWarning: IProgress not found. Please update jupyter and ipywidgets. See https://ipywidgets.readthedocs.io/en/stable/user_install.html\n",
      "  from .autonotebook import tqdm as notebook_tqdm\n"
     ]
    }
   ],
   "source": [
    "import logging\n",
    "\n",
    "# Configurations\n",
    "from configuration.llm_inference_configuration import APILLMConfiguration\n",
    "from configuration.embedding_inference_configuration import APIEmbeddingModelConfiguration, LocalEmbeddingModelConfiguration\n",
    "from configuration.nlp_configuration import NLPConfiguration\n",
    "from configuration.tool_configuration import ToolConfiguration, DemonstrationSamplingToolConfiguration\n",
    "from configuration.operator_configuration import CoTOperatorConfiguration\n",
    "# System components\n",
    "from llm.request_llm import RequestLLM\n",
    "from embedding.local_embedding import LocalEmbeddingModel\n",
    "from embedding.request_embedding import RequestEmbeddingModel\n",
    "from nlp.spacy_nlp import SpacyNLP\n",
    "from tools.python_code_runner import PythonCodeRunnerTool\n",
    "from tools.demonstration_sampling import DemonstrationSamplingTool\n",
    "# Prompt\n",
    "from prompt.zero_shot import ZeroShotPrompt\n",
    "from prompt.few_shot import FewShotPrompt\n",
    "from prompt.user_message import UserMessagePrompt\n",
    "from prompt.assistant_message import AssistantMessagePrompt\n",
    "from prompt.tool_message import ToolMessagePrompt\n",
    "# Memory\n",
    "from base_classes.memory.memory_atom import AbstractMemoryAtom\n",
    "from base_classes.memory.memory_block import AbstractMemoryBlock\n",
    "from base_classes.memory.memory_topic import AbstractMemoryTopic\n",
    "from base_classes.memory.datatypes.data_item import PromptDataItem\n",
    "from base_classes.memory.memory_worker import MemoryWorker\n",
    "# MCP\n",
    "# from tools.mcp_server\n",
    "# Operator\n",
    "from base_classes.operator import AbstractOperator\n",
    "from operators.cot import CoTOperator\n",
    "from operators.debate import DebateOperator\n",
    "from operators.react import ReactOperator\n",
    "\n",
    "logging.basicConfig(\n",
    "    level=logging.CRITICAL,\n",
    "    format='%(asctime)s\\t\\t%(levelname)s\\t%(message)s',\n",
    "    handlers=[logging.StreamHandler()]\n",
    ")\n",
    "\n",
    "all_logger_names = list(logging.root.manager.loggerDict.keys())\n",
    "if '' not in all_logger_names:\n",
    "    all_logger_names.append('')\n",
    "\n",
    "for logger_name in all_logger_names:\n",
    "    logger = logging.getLogger(logger_name)\n",
    "    if logger_name.startswith(\"Orbit\"):\n",
    "        logger.setLevel(logging.DEBUG)\n",
    "    elif logger_name == '':\n",
    "        logger.setLevel(logging.CRITICAL)\n",
    "    else:\n",
    "        logger.setLevel(logging.CRITICAL)\n"
   ]
  },
  {
   "cell_type": "markdown",
   "metadata": {},
   "source": [
    "# 1. System component test"
   ]
  },
  {
   "cell_type": "markdown",
   "metadata": {},
   "source": [
    "## 1.1. LLM test"
   ]
  },
  {
   "cell_type": "markdown",
   "metadata": {},
   "source": [
    "### 1.1.1. Azure OpenAI test"
   ]
  },
  {
   "cell_type": "code",
   "execution_count": null,
   "metadata": {},
   "outputs": [],
   "source": [
    "gpt_4o_azure_configuration = APILLMConfiguration()\n",
    "gpt_4o_azure_configuration.load(\"configuration/yaml/llm/azure_gpt_4o.yaml\")\n",
    "azure_gpt_4o = RequestLLM(gpt_4o_azure_configuration)\n",
    "\n",
    "try:\n",
    "    azure_gpt_4o_1 = RequestLLM(gpt_4o_azure_configuration)\n",
    "except Exception as e:\n",
    "    logging.info(\"LLM unique ID test successful\")\n",
    "    logging.error(f\"Failed to create AzureOpenAILLM instance: {e}\")"
   ]
  },
  {
   "cell_type": "code",
   "execution_count": null,
   "metadata": {},
   "outputs": [],
   "source": [
    "sample_zero_shot_message = ZeroShotPrompt(\n",
    "    [\n",
    "        {\n",
    "            \"role\": \"user\", \n",
    "            \"content\": \"Health check. Say 'hi' to start the conversation.\"\n",
    "        }\n",
    "    ]\n",
    ")\n",
    "\n",
    "sample_zero_shot_message_responses = azure_gpt_4o.query(query=sample_zero_shot_message.prompt, num_responses=2)\n",
    "print(azure_gpt_4o.get_response_texts(sample_zero_shot_message_responses))"
   ]
  },
  {
   "cell_type": "code",
   "execution_count": null,
   "metadata": {},
   "outputs": [],
   "source": [
    "sample_few_shots_message = FewShotPrompt(\n",
    "    [\n",
    "        {\n",
    "            \"role\": \"system\", \n",
    "            \"content\": \"You are NetMind assistant. You task is to answer to the user anything about Viettel Group.\"\n",
    "        },\n",
    "        {\n",
    "            \"role\": \"user\", \n",
    "            \"content\": \"Tell me about Viettel Group.\"\n",
    "        },\n",
    "        {\n",
    "            \"role\": \"assistant\", \n",
    "            \"content\": \"Viettel Group is a Vietnamese multinational telecommunications company headquartered in Hanoi, Vietnam. It is a state-owned enterprise and operated by the Ministry of Defence. You can find out more about Viettel Group at https://viettel.vn/.\"\n",
    "        },\n",
    "        {\n",
    "            \"role\": \"user\",\n",
    "            \"content\": \"What is the revenue of Viettel Group? Tell me the list of child companies of Viettel Group?\"\n",
    "        }\n",
    "    ]\n",
    ")\n",
    "\n",
    "sample_few_shots_message_responses = azure_gpt_4o.query(query=sample_few_shots_message.prompt, num_responses=2)\n",
    "print(azure_gpt_4o.get_response_texts(sample_few_shots_message_responses))"
   ]
  },
  {
   "cell_type": "markdown",
   "metadata": {},
   "source": [
    "## 1.2. Embedding test"
   ]
  },
  {
   "cell_type": "markdown",
   "metadata": {},
   "source": [
    "### 1.2.1. Request embedding model test"
   ]
  },
  {
   "cell_type": "code",
   "execution_count": null,
   "metadata": {},
   "outputs": [],
   "source": [
    "text_embedding_ada_002_config = APIEmbeddingModelConfiguration()\n",
    "text_embedding_ada_002_config.load(\"configuration/yaml/embedding/text-embedding-ada-002.yaml\")\n",
    "text_embedding_ada_002 = RequestEmbeddingModel(text_embedding_ada_002_config)"
   ]
  },
  {
   "cell_type": "code",
   "execution_count": null,
   "metadata": {},
   "outputs": [],
   "source": [
    "# text_embedding_ada_002.encode(\"Hello world\")\n",
    "text_embedding_ada_002.similarity(\"Hello world\", \"Hello world\")"
   ]
  },
  {
   "cell_type": "markdown",
   "metadata": {},
   "source": [
    "## 1.3. Tool test"
   ]
  },
  {
   "cell_type": "markdown",
   "metadata": {},
   "source": [
    "### 1.3.1. Python code runner tool"
   ]
  },
  {
   "cell_type": "code",
   "execution_count": null,
   "metadata": {},
   "outputs": [],
   "source": [
    "python_code_runner_config = ToolConfiguration()\n",
    "python_code_runner_config.load(\"configuration/yaml/tools/python_code_runner.yaml\")\n",
    "python_code_runner = PythonCodeRunnerTool(python_code_runner_config)"
   ]
  },
  {
   "cell_type": "code",
   "execution_count": null,
   "metadata": {},
   "outputs": [],
   "source": [
    "input_code_list = [\n",
    "    {\n",
    "        \"code_string\": \"a = 11\\nb = 20\\nresult = a + b\\n\\ndef greet(name):\\n return f'Hello, {name}!'\\n \\nmessage = greet('World')\",\n",
    "        \"id\": \"1\"\n",
    "    },\n",
    "    {\n",
    "        \"code_string\": \"def multiply(x, y):\\n\\treturn x * y\\n\\nnum1 = 5\\nnum2 = 3\\nresult = multiply(num1, num2)\\n\\nprint(f'The product of {num1} and {num2} is {result}.')\",\n",
    "        \"id\": \"2\"\n",
    "    }\n",
    "]\n",
    "\n",
    "results = await python_code_runner.execute(input_code_list=input_code_list)\n",
    "results"
   ]
  },
  {
   "cell_type": "markdown",
   "metadata": {},
   "source": [
    "### 1.3.2. Demostration sampling tool"
   ]
  },
  {
   "cell_type": "code",
   "execution_count": 2,
   "metadata": {},
   "outputs": [
    {
     "name": "stderr",
     "output_type": "stream",
     "text": [
      "2025-06-26 15:21:20,069\t\tDEBUG\t[🔧DemonstrationSamplingToolConfiguration] List of DemonstrationSamplingToolConfiguration's properties: dict_keys(['tool_id', 'webhook.base_url', 'webhook.webhook_path', 'webhook.method', 'headers.content_type', 'headers.authorization', 'ragflow.dataset_ids', 'ragflow.page', 'ragflow.page_size', 'ragflow.similarity_threshold', 'ragflow.vector_similarity_weight', 'ragflow.top_k', 'ragflow.keyword', 'ragflow.highlight'])\n",
      "2025-06-26 15:21:20,073\t\tDEBUG\t[🔧DemonstrationSamplingToolConfiguration] List of DemonstrationSamplingToolConfiguration's sensitive properties: []\n",
      "2025-06-26 15:21:20,078\t\tDEBUG\t[🔧DemonstrationSamplingTool] System Component ID: SYSTEM_COMPONENT | 0 | Component type: <class 'tools.demonstration_sampling.DemonstrationSamplingTool'>\n",
      "2025-06-26 15:21:20,080\t\tINFO\t[ℹ️DemonstrationSamplingTool] ✅ Tool config loaded: demonstration_sampling\n",
      "2025-06-26 15:21:20,080\t\tDEBUG\t[🔧DemonstrationSamplingTool] Tool ID: TOOL | demonstration_sampling\n"
     ]
    }
   ],
   "source": [
    "demonstration_sampling_tool_config = DemonstrationSamplingToolConfiguration()\n",
    "demonstration_sampling_tool_config.load(\"configuration/yaml/tools/demonstration_sampling.yaml\")\n",
    "demonstration_sampling_tool = DemonstrationSamplingTool(tool_config=demonstration_sampling_tool_config)"
   ]
  },
  {
   "cell_type": "code",
   "execution_count": 3,
   "metadata": {},
   "outputs": [
    {
     "name": "stderr",
     "output_type": "stream",
     "text": [
      "2025-06-26 15:21:26,197\t\tDEBUG\t[🔧DemonstrationSamplingTool] <problem>Plan a birthday party for a 10-year-old.</problem>\n",
      "\n",
      "<plan>\n",
      "\n",
      "<step id=1>\n",
      "Decide on a theme for the party.\n",
      "<\\step>\n",
      "\n",
      "<step id=2>\n",
      "Create a guest list of friends and family.\n",
      "<\\step>\n",
      "\n",
      "<step id=3>\n",
      "Choose a location for the party (home or venue).\n",
      "<\\step>\n",
      "\n",
      "<step id=4>\n",
      "Send out invitations at least two weeks in advance.\n",
      "<\\step>\n",
      "\n",
      "<step id=5>\n",
      "Plan games and activities suitable for the age group.\n",
      "<\\step>\n",
      "\n",
      "<step id=6>\n",
      "Order or bake a birthday cake and other snacks.\n",
      "<\\step>\n",
      "\n",
      "<step id=7>\n",
      "Decorate the venue according to the chosen theme.\n",
      "<\\step>\n",
      "\n",
      "<step id=8>\n",
      "Prepare goodie bags for guests to take home.\n",
      "<\\step>\n",
      "\n",
      "<\\plan>\n",
      "2025-06-26 15:21:26,200\t\tDEBUG\t[🔧DemonstrationSamplingTool] Chunk plan: {'problem': 'Plan a birthday party for a 10-year-old.', 'plan': [{'step': 'Decide on a theme for the party.'}, {'step': 'Create a guest list of friends and family.'}, {'step': 'Choose a location for the party (home or venue).'}, {'step': 'Send out invitations at least two weeks in advance.'}, {'step': 'Plan games and activities suitable for the age group.'}, {'step': 'Order or bake a birthday cake and other snacks.'}, {'step': 'Decorate the venue according to the chosen theme.'}, {'step': 'Prepare goodie bags for guests to take home.'}]}\n",
      "2025-06-26 15:21:26,200\t\tDEBUG\t[🔧DemonstrationSamplingTool] <problem>Organize a weekend hiking trip.</problem>\n",
      "\n",
      "<plan>\n",
      "\n",
      "<step id=1>\n",
      "Choose a hiking destination based on skill level.\n",
      "<\\step>\n",
      "\n",
      "<step id=2>\n",
      "Check the weather forecast for the weekend.\n",
      "<\\step>\n",
      "\n",
      "<step id=3>\n",
      "Create a list of necessary gear and supplies.\n",
      "<\\step>\n",
      "\n",
      "<step id=4>\n",
      "Prepare food and water for the hike.\n",
      "<\\step>\n",
      "\n",
      "<step id=5>\n",
      "Arrange transportation to and from the hiking site.\n",
      "<\\step>\n",
      "\n",
      "<step id=6>\n",
      "Set a departure time to ensure enough daylight.\n",
      "<\\step>\n",
      "\n",
      "<\\plan>\n",
      "2025-06-26 15:21:26,202\t\tDEBUG\t[🔧DemonstrationSamplingTool] Chunk plan: {'problem': 'Organize a weekend hiking trip.', 'plan': [{'step': 'Choose a hiking destination based on skill level.'}, {'step': 'Check the weather forecast for the weekend.'}, {'step': 'Create a list of necessary gear and supplies.'}, {'step': 'Prepare food and water for the hike.'}, {'step': 'Arrange transportation to and from the hiking site.'}, {'step': 'Set a departure time to ensure enough daylight.'}]}\n"
     ]
    },
    {
     "data": {
      "text/plain": [
       "[{'problem': 'Plan a birthday party for a 10-year-old.',\n",
       "  'plan': [{'step': 'Decide on a theme for the party.'},\n",
       "   {'step': 'Create a guest list of friends and family.'},\n",
       "   {'step': 'Choose a location for the party (home or venue).'},\n",
       "   {'step': 'Send out invitations at least two weeks in advance.'},\n",
       "   {'step': 'Plan games and activities suitable for the age group.'},\n",
       "   {'step': 'Order or bake a birthday cake and other snacks.'},\n",
       "   {'step': 'Decorate the venue according to the chosen theme.'},\n",
       "   {'step': 'Prepare goodie bags for guests to take home.'}]},\n",
       " {'problem': 'Organize a weekend hiking trip.',\n",
       "  'plan': [{'step': 'Choose a hiking destination based on skill level.'},\n",
       "   {'step': 'Check the weather forecast for the weekend.'},\n",
       "   {'step': 'Create a list of necessary gear and supplies.'},\n",
       "   {'step': 'Prepare food and water for the hike.'},\n",
       "   {'step': 'Arrange transportation to and from the hiking site.'},\n",
       "   {'step': 'Set a departure time to ensure enough daylight.'}]}]"
      ]
     },
     "execution_count": 3,
     "metadata": {},
     "output_type": "execute_result"
    }
   ],
   "source": [
    "samples = await demonstration_sampling_tool.execute(input_message=UserMessagePrompt(\n",
    "    prompt = [\n",
    "        {\n",
    "            \"role\": \"user\", \n",
    "            \"content\": \"Organize a party\"\n",
    "        }\n",
    "    ]\n",
    "))\n",
    "samples"
   ]
  },
  {
   "cell_type": "code",
   "execution_count": null,
   "metadata": {},
   "outputs": [],
   "source": [
    "print(samples)"
   ]
  },
  {
   "cell_type": "markdown",
   "metadata": {},
   "source": [
    "## 1.4. NLP model test "
   ]
  },
  {
   "cell_type": "markdown",
   "metadata": {},
   "source": [
    "### 1.4.1. SpaCy NLP test"
   ]
  },
  {
   "cell_type": "code",
   "execution_count": null,
   "metadata": {},
   "outputs": [],
   "source": [
    "spacy_nlp_config = NLPConfiguration()\n",
    "spacy_nlp_config.load(\"configuration/yaml/nlp/spacy.yaml\")\n",
    "spacy_model = SpacyNLP(spacy_nlp_config)"
   ]
  },
  {
   "cell_type": "code",
   "execution_count": null,
   "metadata": {},
   "outputs": [],
   "source": [
    "spacy_model.lemmatize(\"Hello, my name is John Doe. I am a software engineer. I love coding and solving problems.\")"
   ]
  },
  {
   "cell_type": "markdown",
   "metadata": {},
   "source": [
    "# 2. Memory test"
   ]
  },
  {
   "cell_type": "code",
   "execution_count": null,
   "metadata": {},
   "outputs": [],
   "source": [
    "from test_utils.memory import *"
   ]
  },
  {
   "cell_type": "code",
   "execution_count": null,
   "metadata": {},
   "outputs": [],
   "source": [
    "# Memory Worker Initiation\n",
    "spacy_nlp_config = NLPConfiguration()\n",
    "spacy_nlp_config.load(\"configuration/yaml/nlp/spacy.yaml\")\n",
    "spacy_model = SpacyNLP(spacy_nlp_config)\n",
    "\n",
    "gpt_4o_azure_configuration = APILLMConfiguration()\n",
    "gpt_4o_azure_configuration.load(\"configuration/yaml/llm/azure_gpt_4o.yaml\")\n",
    "azure_gpt_4o = RequestLLM(gpt_4o_azure_configuration)\n",
    "\n",
    "text_embedding_ada_002_config = APIEmbeddingModelConfiguration()\n",
    "text_embedding_ada_002_config.load(\"configuration/yaml/embedding/text-embedding-ada-002.yaml\")\n",
    "text_embedding_ada_002 = RequestEmbeddingModel(text_embedding_ada_002_config)\n",
    "\n",
    "memory_worker = MemoryWorker(\n",
    "    emb_model=text_embedding_ada_002,\n",
    "    llm=azure_gpt_4o,\n",
    "    nlp_model=spacy_model\n",
    ")"
   ]
  },
  {
   "cell_type": "code",
   "execution_count": null,
   "metadata": {},
   "outputs": [],
   "source": [
    "memory_worker.feature_engineer_for_memory_block(mem_block_1)\n",
    "memory_worker.feature_engineer_for_memory_block(mem_block_2)\n",
    "memory_worker.feature_engineer_for_memory_block(mem_block_3)\n",
    "memory_worker.feature_engineer_for_memory_block(mem_block_4)\n",
    "memory_worker.feature_engineer_for_memory_block(mem_block_5)\n",
    "memory_worker.feature_engineer_for_memory_block(mem_block_6)\n",
    "\n",
    "memory_worker.feature_engineer_for_memory_topic(mem_topic_1)\n",
    "memory_worker.feature_engineer_for_memory_topic(mem_topic_2)\n",
    "memory_worker.feature_engineer_for_memory_topic(mem_topic_3)"
   ]
  },
  {
   "cell_type": "code",
   "execution_count": null,
   "metadata": {},
   "outputs": [],
   "source": [
    "new_query = [{\n",
    "    'role': 'user',\n",
    "    'content': 'I have a problem with my integer_adder() program. It can not output the sum of numbers given to it. Can you calculate the sum of integers from 1 to 100?'\n",
    "}]\n",
    "new_mem_atom = AbstractMemoryAtom(data=PromptDataItem(UserMessagePrompt(new_query)))\n",
    "\n",
    "new_mem_block = AbstractMemoryBlock()\n",
    "new_mem_block.add_memory_atom(new_mem_atom)"
   ]
  },
  {
   "cell_type": "code",
   "execution_count": null,
   "metadata": {},
   "outputs": [],
   "source": [
    "relevant_topics = memory_worker.select_relevant_topics(new_mem_block, mem_stack, top_n=1)"
   ]
  },
  {
   "cell_type": "code",
   "execution_count": null,
   "metadata": {},
   "outputs": [],
   "source": [
    "for mtp, scr in relevant_topics:\n",
    "    mtp.add_mem_block(new_mem_block)"
   ]
  },
  {
   "cell_type": "code",
   "execution_count": null,
   "metadata": {},
   "outputs": [],
   "source": [
    "retrieved_mem_blocks = memory_worker.memory_block_retrieval(new_mem_block)"
   ]
  },
  {
   "cell_type": "code",
   "execution_count": null,
   "metadata": {},
   "outputs": [],
   "source": [
    "print(retrieved_mem_blocks[3])"
   ]
  },
  {
   "cell_type": "markdown",
   "metadata": {},
   "source": [
    "# 3. Operator"
   ]
  },
  {
   "cell_type": "markdown",
   "metadata": {},
   "source": [
    "## 3.1. CoT"
   ]
  },
  {
   "cell_type": "code",
   "execution_count": null,
   "metadata": {},
   "outputs": [],
   "source": [
    "gpt_4o_azure_configuration = APILLMConfiguration()\n",
    "gpt_4o_azure_configuration.load(\"configuration/yaml/llm/azure_gpt_4o.yaml\")\n",
    "azure_gpt_4o = AzureOpenAILLM(gpt_4o_azure_configuration)\n",
    "\n",
    "demonstration_sampling_tool_config = ToolConfiguration()\n",
    "demonstration_sampling_tool_config.load(\"configuration/yaml/tools/demonstration_sampling.yaml\")\n",
    "demonstration_sampling_tool = DemonstrationSamplingTool(demonstration_sampling_tool_config)"
   ]
  },
  {
   "cell_type": "code",
   "execution_count": null,
   "metadata": {},
   "outputs": [],
   "source": [
    "cot_operator_config = CoTOperatorConfiguration()\n",
    "cot_operator_config.load(\"configuration/yaml/operators/cot.yaml\")"
   ]
  },
  {
   "cell_type": "code",
   "execution_count": null,
   "metadata": {},
   "outputs": [],
   "source": [
    "cot_operator = CoTOperator(config=cot_operator_config)"
   ]
  },
  {
   "cell_type": "code",
   "execution_count": null,
   "metadata": {},
   "outputs": [],
   "source": [
    "CoTOperator.__dict__"
   ]
  },
  {
   "cell_type": "code",
   "execution_count": null,
   "metadata": {},
   "outputs": [],
   "source": [
    "AzureOpenAILLM.__dict__['logger']"
   ]
  },
  {
   "cell_type": "code",
   "execution_count": null,
   "metadata": {},
   "outputs": [],
   "source": []
  },
  {
   "cell_type": "code",
   "execution_count": null,
   "metadata": {},
   "outputs": [],
   "source": []
  }
 ],
 "metadata": {
  "kernelspec": {
   "display_name": "agentic_workflow",
   "language": "python",
   "name": "python3"
  },
  "language_info": {
   "codemirror_mode": {
    "name": "ipython",
    "version": 3
   },
   "file_extension": ".py",
   "mimetype": "text/x-python",
   "name": "python",
   "nbconvert_exporter": "python",
   "pygments_lexer": "ipython3",
   "version": "3.12.0"
  }
 },
 "nbformat": 4,
 "nbformat_minor": 2
}
